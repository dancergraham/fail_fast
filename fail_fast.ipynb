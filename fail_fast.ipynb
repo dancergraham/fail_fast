{
 "cells": [
  {
   "cell_type": "markdown",
   "id": "6b90e010-b83e-4324-b7d6-9b316cdddeef",
   "metadata": {},
   "source": [
    "# Fail Fast : Coder sereinement\n"
   ]
  },
  {
   "cell_type": "code",
   "execution_count": 11,
   "id": "2d9d9cd2-fba4-4716-89e5-073a94135b23",
   "metadata": {},
   "outputs": [],
   "source": [
    "from math import  isclose\n",
    "\n",
    "assert isclose(0.1+0.2, 0.3, abs_tol = 0.001)"
   ]
  },
  {
   "cell_type": "code",
   "execution_count": 22,
   "id": "b98566e8-268a-48c8-937d-517519a63c11",
   "metadata": {},
   "outputs": [],
   "source": [
    "from vitesse import vitesse"
   ]
  },
  {
   "cell_type": "code",
   "execution_count": 23,
   "id": "430429b8-d8b6-4e3c-bb8e-93b669e3a1dd",
   "metadata": {},
   "outputs": [],
   "source": [
    "hauteurs = [hauteur for hauteur in range(1,101)]\n",
    "vitesses = [vitesse(24, hauteur, 1.0) for hauteur in hauteurs]"
   ]
  },
  {
   "cell_type": "code",
   "execution_count": 24,
   "id": "66540171-2a32-418c-9544-7aedc1cc3f25",
   "metadata": {},
   "outputs": [
    {
     "data": {
      "image/png": "[encoded data removed]",
      "text/plain": [
       "<Figure size 432x288 with 1 Axes>"
      ]
     },
     "metadata": {
      "needs_background": "light"
     },
     "output_type": "display_data"
    }
   ],
   "source": [
    "from matplotlib import pyplot as plt\n",
    "\n",
    "plt.scatter(vitesses, hauteurs, marker='+')\n",
    "plt.xlabel('Vitesse (m/s)')\n",
    "plt.ylabel('Hauteur (m)')\n",
    "plt.xlim(0, None)\n",
    "plt.ylim(0, max(hauteurs))\n",
    "plt.show()"
   ]
  },
  {
   "cell_type": "code",
   "execution_count": 18,
   "id": "ad47a314-8453-4bbf-b810-6fbf0157b19c",
   "metadata": {},
   "outputs": [],
   "source": [
    "hauteurs = np.linspace(1,100,100)\n",
    "vitesses = vitesse(24, hauteurs, 1.0)"
   ]
  },
  {
   "cell_type": "code",
   "execution_count": null,
   "id": "27d8c050-5e58-4eff-8383-62f6159eb13e",
   "metadata": {},
   "outputs": [],
   "source": []
  },
  {
   "cell_type": "code",
   "execution_count": null,
   "id": "babd1ca9-47e9-4f50-b282-fde6abd2d1b4",
   "metadata": {},
   "outputs": [],
   "source": []
  }
 ],
 "metadata": {
  "kernelspec": {
   "display_name": "Python 3",
   "language": "python",
   "name": "python3"
  },
  "language_info": {
   "codemirror_mode": {
    "name": "ipython",
    "version": 3
   },
   "file_extension": ".py",
   "mimetype": "text/x-python",
   "name": "python",
   "nbconvert_exporter": "python",
   "pygments_lexer": "ipython3",
   "version": "3.9.2"
  }
 },
 "nbformat": 4,
 "nbformat_minor": 5
}
